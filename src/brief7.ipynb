{
 "cells": [
  {
   "cell_type": "markdown",
   "id": "d1c4d543",
   "metadata": {},
   "source": [
    "<div style=\"border: 1px solid RGB(51,165,182);\" >\n",
    "<h3 style=\"margin: auto; padding: 20px; color: RGB(51,165,182); \">1.1 - Importation des librairies</h3>\n",
    "</div>"
   ]
  },
  {
   "cell_type": "code",
   "execution_count": 119,
   "id": "69f14e06",
   "metadata": {},
   "outputs": [],
   "source": [
    "import pandas as pd\n",
    "import numpy as np\n",
    "from pathlib import Path\n",
    "from clean.Cleaning import data_check\n",
    "from clean.Cleaning import record\n",
    "from sklearn.model_selection import train_test_split\n",
    "from sklearn.preprocessing import MinMaxScaler\n",
    "from sklearn.preprocessing import StandardScaler\n",
    "from sklearn.preprocessing import RobustScaler\n",
    "from sklearn.linear_model import LinearRegression\n",
    "from sklearn.metrics import mean_squared_error   \n",
    "from sklearn.metrics import mean_absolute_error\n",
    "from sklearn.metrics import r2_score\n",
    "from sklearn.feature_selection import RFE\n",
    "import matplotlib.pyplot as plt\n",
    "import seaborn as sns\n",
    "import statsmodels.api as sm \n",
    "import pickle\n",
    "import warnings \n",
    "warnings.filterwarnings(\"ignore\")"
   ]
  },
  {
   "cell_type": "code",
   "execution_count": 2,
   "id": "e2936498",
   "metadata": {},
   "outputs": [],
   "source": [
    "%load_ext autoreload\n",
    "%autoreload 2"
   ]
  },
  {
   "cell_type": "markdown",
   "id": "f2586ca6",
   "metadata": {},
   "source": [
    "## Data exploration"
   ]
  },
  {
   "cell_type": "code",
   "execution_count": 3,
   "id": "6db7f585",
   "metadata": {},
   "outputs": [],
   "source": [
    "df = pd.read_csv(r'../data/RAW/cars.csv', encoding=\"UTF8\")"
   ]
  },
  {
   "cell_type": "code",
   "execution_count": 4,
   "id": "c84392ca",
   "metadata": {},
   "outputs": [
    {
     "data": {
      "text/plain": [
       "True"
      ]
     },
     "execution_count": 4,
     "metadata": {},
     "output_type": "execute_result"
    }
   ],
   "source": [
    "sum(df.duplicated(subset = 'car_ID')) == 0"
   ]
  },
  {
   "cell_type": "code",
   "execution_count": 5,
   "id": "bd47f142",
   "metadata": {},
   "outputs": [
    {
     "data": {
      "text/plain": [
       "car_ID              0.0\n",
       "symboling           0.0\n",
       "CarName             0.0\n",
       "fueltype            0.0\n",
       "aspiration          0.0\n",
       "doornumber          0.0\n",
       "carbody             0.0\n",
       "drivewheel          0.0\n",
       "enginelocation      0.0\n",
       "wheelbase           0.0\n",
       "carlength           0.0\n",
       "carwidth            0.0\n",
       "carheight           0.0\n",
       "curbweight          0.0\n",
       "enginetype          0.0\n",
       "cylindernumber      0.0\n",
       "enginesize          0.0\n",
       "fuelsystem          0.0\n",
       "boreratio           0.0\n",
       "stroke              0.0\n",
       "compressionratio    0.0\n",
       "horsepower          0.0\n",
       "peakrpm             0.0\n",
       "citympg             0.0\n",
       "highwaympg          0.0\n",
       "price               0.0\n",
       "dtype: float64"
      ]
     },
     "execution_count": 5,
     "metadata": {},
     "output_type": "execute_result"
    }
   ],
   "source": [
    "df.isnull().sum()*100/df.shape[0]"
   ]
  },
  {
   "cell_type": "code",
   "execution_count": 6,
   "id": "75a4b1ce",
   "metadata": {},
   "outputs": [
    {
     "name": "stdout",
     "output_type": "stream",
     "text": [
      " This Df contains 0 NAN, 0 NULL and 0 dublicate line\n"
     ]
    }
   ],
   "source": [
    "data_check(df)"
   ]
  },
  {
   "cell_type": "code",
   "execution_count": 7,
   "id": "0b372bb8",
   "metadata": {},
   "outputs": [],
   "source": [
    "CompanyName = df['CarName'].apply(lambda x : x.split(' ')[0]).str.upper()\n",
    "ModelName = df['CarName'].apply(lambda x : ' '.join( x.split(' ')[1:]))"
   ]
  },
  {
   "cell_type": "code",
   "execution_count": 8,
   "id": "df9cb767",
   "metadata": {},
   "outputs": [
    {
     "data": {
      "text/plain": [
       "array(['ALFA-ROMERO', 'AUDI', 'BMW', 'BUICK', 'CHEVROLET', 'DODGE',\n",
       "       'HONDA', 'ISUZU', 'JAGUAR', 'MAXDA', 'MAZDA', 'MERCURY',\n",
       "       'MITSUBISHI', 'NISSAN', 'PEUGEOT', 'PLYMOUTH', 'PORCSHCE',\n",
       "       'PORSCHE', 'RENAULT', 'SAAB', 'SUBARU', 'TOYOTA', 'TOYOUTA',\n",
       "       'VOKSWAGEN', 'VOLKSWAGEN', 'VOLVO', 'VW'], dtype=object)"
      ]
     },
     "execution_count": 8,
     "metadata": {},
     "output_type": "execute_result"
    }
   ],
   "source": [
    "df.insert(3,\"Company\",CompanyName)\n",
    "df.insert(4,\"Model\",ModelName)\n",
    "df.drop(['CarName'],axis=1,inplace=True)\n",
    "df['Company'].sort_values().unique()"
   ]
  },
  {
   "cell_type": "markdown",
   "id": "af546dc8",
   "metadata": {},
   "source": [
    "###### -> on remarque des erreurs d'appellations de compagny "
   ]
  },
  {
   "cell_type": "code",
   "execution_count": 9,
   "id": "b48b37e6",
   "metadata": {},
   "outputs": [],
   "source": [
    "df['Company'] = df['Company'].replace(['VW', 'VOKSWAGEN'], 'VOLKSWAGEN')\n",
    "df['Company'] = df['Company'].replace(['MAXDA'], 'MAZDA')\n",
    "df['Company'] = df['Company'].replace(['PORCSHCE'], 'PORSCHE')\n",
    "df['Company'] = df['Company'].replace(['TOYOUTA'], 'TOYOTA')"
   ]
  },
  {
   "cell_type": "code",
   "execution_count": 10,
   "id": "8d3d3a78",
   "metadata": {},
   "outputs": [
    {
     "data": {
      "text/plain": [
       "array(['', '100 ls', '100ls', '1131 deluxe sedan', '12tl', '144ea',\n",
       "       '145e (sw)', '244dl', '245', '246', '264gl', '304', '320i', '4000',\n",
       "       '411 (sw)', '5 gtl', '5000', '5000s (diesel)', '504', '504 (sw)',\n",
       "       '505s turbo diesel', '604sl', '626', '99e', '99gle', '99le',\n",
       "       'D-Max ', 'D-Max V-Cross', 'MU-X', 'Quadrifoglio', 'accord',\n",
       "       'accord cvcc', 'accord lx', 'baja', 'boxter', 'brz', 'carina',\n",
       "       'cayenne', 'celica gt', 'celica gt liftback', 'century',\n",
       "       'century luxus (sw)', 'century special', 'challenger se', 'civic',\n",
       "       'civic (auto)', 'civic 1300', 'civic 1500 gl', 'civic cvcc',\n",
       "       'clipper', 'colt (sw)', 'colt hardtop', 'corolla', 'corolla 1200',\n",
       "       'corolla 1600 (sw)', 'corolla liftback', 'corolla tercel',\n",
       "       'corona', 'corona hardtop', 'corona liftback', 'corona mark ii',\n",
       "       'coronet custom', 'coronet custom (sw)', 'cougar', 'cressida',\n",
       "       'cricket', 'd200', 'dart custom', 'dasher', 'dayz', 'diesel', 'dl',\n",
       "       'duster', 'electra 225 custom', 'fox', 'fuga', 'fury gran sedan',\n",
       "       'fury iii', 'g4', 'giulia', 'glc', 'glc 4', 'glc custom',\n",
       "       'glc custom l', 'glc deluxe', 'gt-r', 'impala', 'juke', 'kicks',\n",
       "       'lancer', 'latio', 'leaf', 'macan', 'mark ii', 'mirage',\n",
       "       'mirage g4', 'model 111', 'monaco (sw)', 'monte carlo', 'montero',\n",
       "       'note', 'nv200', 'opel isuzu deluxe', 'otti', 'outlander',\n",
       "       'pajero', 'panamera', 'prelude', 'r1', 'r2', 'rabbit',\n",
       "       'rabbit custom', 'rampage', 'regal sport coupe (turbo)', 'rogue',\n",
       "       'rx-4', 'rx-7 gs', 'rx2 coupe', 'rx3', 'satellite custom (sw)',\n",
       "       'skyhawk', 'skylark', 'starlet', 'stelvio', 'super beetle',\n",
       "       'teana', 'tercel', 'titan', 'trezia', 'tribeca', 'type 3',\n",
       "       'valiant', 'vega 2300', 'versa', 'x1', 'x3', 'x4', 'x5', 'xf',\n",
       "       'xj', 'xk', 'z4'], dtype=object)"
      ]
     },
     "execution_count": 10,
     "metadata": {},
     "output_type": "execute_result"
    }
   ],
   "source": [
    "df['Model'].sort_values().unique()"
   ]
  },
  {
   "cell_type": "markdown",
   "id": "38ea10ba",
   "metadata": {},
   "source": [
    "###### -> on remarque des appellations de model qui comporte des caractéristique comme ('sw', 'diesel', 'turbo', 'sedan'...)"
   ]
  },
  {
   "cell_type": "code",
   "execution_count": 11,
   "id": "d7b3d813",
   "metadata": {},
   "outputs": [
    {
     "data": {
      "text/plain": [
       "Index(['car_ID', 'symboling', 'Company', 'Model', 'fueltype', 'aspiration',\n",
       "       'doornumber', 'carbody', 'drivewheel', 'enginelocation', 'wheelbase',\n",
       "       'carlength', 'carwidth', 'carheight', 'curbweight', 'enginetype',\n",
       "       'cylindernumber', 'enginesize', 'fuelsystem', 'boreratio', 'stroke',\n",
       "       'compressionratio', 'horsepower', 'peakrpm', 'citympg', 'highwaympg',\n",
       "       'price'],\n",
       "      dtype='object')"
      ]
     },
     "execution_count": 11,
     "metadata": {},
     "output_type": "execute_result"
    }
   ],
   "source": [
    "df.columns"
   ]
  },
  {
   "cell_type": "code",
   "execution_count": 12,
   "id": "acee9e81",
   "metadata": {
    "scrolled": true
   },
   "outputs": [
    {
     "data": {
      "text/html": [
       "<div>\n",
       "<style scoped>\n",
       "    .dataframe tbody tr th:only-of-type {\n",
       "        vertical-align: middle;\n",
       "    }\n",
       "\n",
       "    .dataframe tbody tr th {\n",
       "        vertical-align: top;\n",
       "    }\n",
       "\n",
       "    .dataframe thead th {\n",
       "        text-align: right;\n",
       "    }\n",
       "</style>\n",
       "<table border=\"1\" class=\"dataframe\">\n",
       "  <thead>\n",
       "    <tr style=\"text-align: right;\">\n",
       "      <th></th>\n",
       "      <th>car_ID</th>\n",
       "      <th>symboling</th>\n",
       "      <th>Company</th>\n",
       "      <th>Model</th>\n",
       "      <th>fueltype</th>\n",
       "      <th>aspiration</th>\n",
       "      <th>doornumber</th>\n",
       "      <th>carbody</th>\n",
       "      <th>drivewheel</th>\n",
       "      <th>enginelocation</th>\n",
       "      <th>...</th>\n",
       "      <th>enginesize</th>\n",
       "      <th>fuelsystem</th>\n",
       "      <th>boreratio</th>\n",
       "      <th>stroke</th>\n",
       "      <th>compressionratio</th>\n",
       "      <th>horsepower</th>\n",
       "      <th>peakrpm</th>\n",
       "      <th>citympg</th>\n",
       "      <th>highwaympg</th>\n",
       "      <th>price</th>\n",
       "    </tr>\n",
       "  </thead>\n",
       "  <tbody>\n",
       "    <tr>\n",
       "      <th>9</th>\n",
       "      <td>10</td>\n",
       "      <td>0</td>\n",
       "      <td>AUDI</td>\n",
       "      <td>5000s (diesel)</td>\n",
       "      <td>gas</td>\n",
       "      <td>turbo</td>\n",
       "      <td>two</td>\n",
       "      <td>hatchback</td>\n",
       "      <td>4wd</td>\n",
       "      <td>front</td>\n",
       "      <td>...</td>\n",
       "      <td>131</td>\n",
       "      <td>mpfi</td>\n",
       "      <td>3.13</td>\n",
       "      <td>3.40</td>\n",
       "      <td>7.0</td>\n",
       "      <td>160</td>\n",
       "      <td>5500</td>\n",
       "      <td>16</td>\n",
       "      <td>22</td>\n",
       "      <td>17859.167</td>\n",
       "    </tr>\n",
       "    <tr>\n",
       "      <th>114</th>\n",
       "      <td>115</td>\n",
       "      <td>0</td>\n",
       "      <td>PEUGEOT</td>\n",
       "      <td>505s turbo diesel</td>\n",
       "      <td>diesel</td>\n",
       "      <td>turbo</td>\n",
       "      <td>four</td>\n",
       "      <td>wagon</td>\n",
       "      <td>rwd</td>\n",
       "      <td>front</td>\n",
       "      <td>...</td>\n",
       "      <td>152</td>\n",
       "      <td>idi</td>\n",
       "      <td>3.70</td>\n",
       "      <td>3.52</td>\n",
       "      <td>21.0</td>\n",
       "      <td>95</td>\n",
       "      <td>4150</td>\n",
       "      <td>25</td>\n",
       "      <td>25</td>\n",
       "      <td>17075.000</td>\n",
       "    </tr>\n",
       "    <tr>\n",
       "      <th>199</th>\n",
       "      <td>200</td>\n",
       "      <td>-1</td>\n",
       "      <td>VOLVO</td>\n",
       "      <td>diesel</td>\n",
       "      <td>gas</td>\n",
       "      <td>turbo</td>\n",
       "      <td>four</td>\n",
       "      <td>wagon</td>\n",
       "      <td>rwd</td>\n",
       "      <td>front</td>\n",
       "      <td>...</td>\n",
       "      <td>130</td>\n",
       "      <td>mpfi</td>\n",
       "      <td>3.62</td>\n",
       "      <td>3.15</td>\n",
       "      <td>7.5</td>\n",
       "      <td>162</td>\n",
       "      <td>5100</td>\n",
       "      <td>17</td>\n",
       "      <td>22</td>\n",
       "      <td>18950.000</td>\n",
       "    </tr>\n",
       "  </tbody>\n",
       "</table>\n",
       "<p>3 rows × 27 columns</p>\n",
       "</div>"
      ],
      "text/plain": [
       "     car_ID  symboling  Company              Model fueltype aspiration  \\\n",
       "9        10          0     AUDI     5000s (diesel)      gas      turbo   \n",
       "114     115          0  PEUGEOT  505s turbo diesel   diesel      turbo   \n",
       "199     200         -1    VOLVO             diesel      gas      turbo   \n",
       "\n",
       "    doornumber    carbody drivewheel enginelocation  ...  enginesize  \\\n",
       "9          two  hatchback        4wd          front  ...         131   \n",
       "114       four      wagon        rwd          front  ...         152   \n",
       "199       four      wagon        rwd          front  ...         130   \n",
       "\n",
       "     fuelsystem  boreratio  stroke  compressionratio horsepower peakrpm  \\\n",
       "9          mpfi       3.13    3.40               7.0        160    5500   \n",
       "114         idi       3.70    3.52              21.0         95    4150   \n",
       "199        mpfi       3.62    3.15               7.5        162    5100   \n",
       "\n",
       "     citympg highwaympg      price  \n",
       "9         16         22  17859.167  \n",
       "114       25         25  17075.000  \n",
       "199       17         22  18950.000  \n",
       "\n",
       "[3 rows x 27 columns]"
      ]
     },
     "execution_count": 12,
     "metadata": {},
     "output_type": "execute_result"
    }
   ],
   "source": [
    "df[df['Model'].str.contains('diesel')]"
   ]
  },
  {
   "cell_type": "code",
   "execution_count": 13,
   "id": "f934fa7a",
   "metadata": {},
   "outputs": [
    {
     "data": {
      "text/html": [
       "<div>\n",
       "<style scoped>\n",
       "    .dataframe tbody tr th:only-of-type {\n",
       "        vertical-align: middle;\n",
       "    }\n",
       "\n",
       "    .dataframe tbody tr th {\n",
       "        vertical-align: top;\n",
       "    }\n",
       "\n",
       "    .dataframe thead th {\n",
       "        text-align: right;\n",
       "    }\n",
       "</style>\n",
       "<table border=\"1\" class=\"dataframe\">\n",
       "  <thead>\n",
       "    <tr style=\"text-align: right;\">\n",
       "      <th>fuelsystem</th>\n",
       "      <th>1bbl</th>\n",
       "      <th>2bbl</th>\n",
       "      <th>4bbl</th>\n",
       "      <th>idi</th>\n",
       "      <th>mfi</th>\n",
       "      <th>mpfi</th>\n",
       "      <th>spdi</th>\n",
       "      <th>spfi</th>\n",
       "    </tr>\n",
       "    <tr>\n",
       "      <th>fueltype</th>\n",
       "      <th></th>\n",
       "      <th></th>\n",
       "      <th></th>\n",
       "      <th></th>\n",
       "      <th></th>\n",
       "      <th></th>\n",
       "      <th></th>\n",
       "      <th></th>\n",
       "    </tr>\n",
       "  </thead>\n",
       "  <tbody>\n",
       "    <tr>\n",
       "      <th>diesel</th>\n",
       "      <td>NaN</td>\n",
       "      <td>NaN</td>\n",
       "      <td>NaN</td>\n",
       "      <td>20.0</td>\n",
       "      <td>NaN</td>\n",
       "      <td>NaN</td>\n",
       "      <td>NaN</td>\n",
       "      <td>NaN</td>\n",
       "    </tr>\n",
       "    <tr>\n",
       "      <th>gas</th>\n",
       "      <td>11.0</td>\n",
       "      <td>66.0</td>\n",
       "      <td>3.0</td>\n",
       "      <td>NaN</td>\n",
       "      <td>1.0</td>\n",
       "      <td>94.0</td>\n",
       "      <td>9.0</td>\n",
       "      <td>1.0</td>\n",
       "    </tr>\n",
       "  </tbody>\n",
       "</table>\n",
       "</div>"
      ],
      "text/plain": [
       "fuelsystem  1bbl  2bbl  4bbl   idi  mfi  mpfi  spdi  spfi\n",
       "fueltype                                                 \n",
       "diesel       NaN   NaN   NaN  20.0  NaN   NaN   NaN   NaN\n",
       "gas         11.0  66.0   3.0   NaN  1.0  94.0   9.0   1.0"
      ]
     },
     "execution_count": 13,
     "metadata": {},
     "output_type": "execute_result"
    }
   ],
   "source": [
    " df[['fueltype','fuelsystem']].pivot_table(index='fueltype', columns='fuelsystem', aggfunc=len)"
   ]
  },
  {
   "cell_type": "code",
   "execution_count": 14,
   "id": "012a31b5",
   "metadata": {},
   "outputs": [
    {
     "data": {
      "text/html": [
       "<div>\n",
       "<style scoped>\n",
       "    .dataframe tbody tr th:only-of-type {\n",
       "        vertical-align: middle;\n",
       "    }\n",
       "\n",
       "    .dataframe tbody tr th {\n",
       "        vertical-align: top;\n",
       "    }\n",
       "\n",
       "    .dataframe thead th {\n",
       "        text-align: right;\n",
       "    }\n",
       "</style>\n",
       "<table border=\"1\" class=\"dataframe\">\n",
       "  <thead>\n",
       "    <tr style=\"text-align: right;\">\n",
       "      <th>fuelsystem</th>\n",
       "      <th>1bbl</th>\n",
       "      <th>2bbl</th>\n",
       "      <th>4bbl</th>\n",
       "      <th>idi</th>\n",
       "      <th>mfi</th>\n",
       "      <th>mpfi</th>\n",
       "      <th>spdi</th>\n",
       "      <th>spfi</th>\n",
       "    </tr>\n",
       "    <tr>\n",
       "      <th>fueltype</th>\n",
       "      <th></th>\n",
       "      <th></th>\n",
       "      <th></th>\n",
       "      <th></th>\n",
       "      <th></th>\n",
       "      <th></th>\n",
       "      <th></th>\n",
       "      <th></th>\n",
       "    </tr>\n",
       "  </thead>\n",
       "  <tbody>\n",
       "    <tr>\n",
       "      <th>diesel</th>\n",
       "      <td>NaN</td>\n",
       "      <td>NaN</td>\n",
       "      <td>NaN</td>\n",
       "      <td>22.005</td>\n",
       "      <td>NaN</td>\n",
       "      <td>NaN</td>\n",
       "      <td>NaN</td>\n",
       "      <td>NaN</td>\n",
       "    </tr>\n",
       "    <tr>\n",
       "      <th>gas</th>\n",
       "      <td>9.245455</td>\n",
       "      <td>9.08803</td>\n",
       "      <td>9.4</td>\n",
       "      <td>NaN</td>\n",
       "      <td>7.0</td>\n",
       "      <td>8.803298</td>\n",
       "      <td>7.3</td>\n",
       "      <td>9.2</td>\n",
       "    </tr>\n",
       "  </tbody>\n",
       "</table>\n",
       "</div>"
      ],
      "text/plain": [
       "fuelsystem      1bbl     2bbl  4bbl     idi  mfi      mpfi  spdi  spfi\n",
       "fueltype                                                              \n",
       "diesel           NaN      NaN   NaN  22.005  NaN       NaN   NaN   NaN\n",
       "gas         9.245455  9.08803   9.4     NaN  7.0  8.803298   7.3   9.2"
      ]
     },
     "execution_count": 14,
     "metadata": {},
     "output_type": "execute_result"
    }
   ],
   "source": [
    "df[['fueltype','fuelsystem','compressionratio']].pivot_table(index='fueltype', values='compressionratio', columns='fuelsystem')"
   ]
  },
  {
   "cell_type": "markdown",
   "id": "4292bf8b",
   "metadata": {},
   "source": [
    "###### -> les voitures type diesel ont un seul fuelsysteme 'idi' et 'compressionratio' entre 7 et 9.5, on conclue q'il s'agit d'une erreur au niveau de l'appellation.\n",
    "###### -> VOLVO a un model qui s'appelle diesel ou bien l'appellation de model est manquante"
   ]
  },
  {
   "cell_type": "code",
   "execution_count": 15,
   "id": "9eb57930",
   "metadata": {},
   "outputs": [
    {
     "data": {
      "text/html": [
       "<div>\n",
       "<style scoped>\n",
       "    .dataframe tbody tr th:only-of-type {\n",
       "        vertical-align: middle;\n",
       "    }\n",
       "\n",
       "    .dataframe tbody tr th {\n",
       "        vertical-align: top;\n",
       "    }\n",
       "\n",
       "    .dataframe thead th {\n",
       "        text-align: right;\n",
       "    }\n",
       "</style>\n",
       "<table border=\"1\" class=\"dataframe\">\n",
       "  <thead>\n",
       "    <tr style=\"text-align: right;\">\n",
       "      <th></th>\n",
       "      <th>car_ID</th>\n",
       "      <th>symboling</th>\n",
       "      <th>Company</th>\n",
       "      <th>Model</th>\n",
       "      <th>fueltype</th>\n",
       "      <th>aspiration</th>\n",
       "      <th>doornumber</th>\n",
       "      <th>carbody</th>\n",
       "      <th>drivewheel</th>\n",
       "      <th>enginelocation</th>\n",
       "      <th>...</th>\n",
       "      <th>enginesize</th>\n",
       "      <th>fuelsystem</th>\n",
       "      <th>boreratio</th>\n",
       "      <th>stroke</th>\n",
       "      <th>compressionratio</th>\n",
       "      <th>horsepower</th>\n",
       "      <th>peakrpm</th>\n",
       "      <th>citympg</th>\n",
       "      <th>highwaympg</th>\n",
       "      <th>price</th>\n",
       "    </tr>\n",
       "  </thead>\n",
       "  <tbody>\n",
       "    <tr>\n",
       "      <th>24</th>\n",
       "      <td>25</td>\n",
       "      <td>1</td>\n",
       "      <td>DODGE</td>\n",
       "      <td>monaco (sw)</td>\n",
       "      <td>gas</td>\n",
       "      <td>std</td>\n",
       "      <td>four</td>\n",
       "      <td>hatchback</td>\n",
       "      <td>fwd</td>\n",
       "      <td>front</td>\n",
       "      <td>...</td>\n",
       "      <td>90</td>\n",
       "      <td>2bbl</td>\n",
       "      <td>2.97</td>\n",
       "      <td>3.23</td>\n",
       "      <td>9.4</td>\n",
       "      <td>68</td>\n",
       "      <td>5500</td>\n",
       "      <td>31</td>\n",
       "      <td>38</td>\n",
       "      <td>6229.0</td>\n",
       "    </tr>\n",
       "    <tr>\n",
       "      <th>26</th>\n",
       "      <td>27</td>\n",
       "      <td>1</td>\n",
       "      <td>DODGE</td>\n",
       "      <td>colt (sw)</td>\n",
       "      <td>gas</td>\n",
       "      <td>std</td>\n",
       "      <td>four</td>\n",
       "      <td>sedan</td>\n",
       "      <td>fwd</td>\n",
       "      <td>front</td>\n",
       "      <td>...</td>\n",
       "      <td>90</td>\n",
       "      <td>2bbl</td>\n",
       "      <td>2.97</td>\n",
       "      <td>3.23</td>\n",
       "      <td>9.4</td>\n",
       "      <td>68</td>\n",
       "      <td>5500</td>\n",
       "      <td>31</td>\n",
       "      <td>38</td>\n",
       "      <td>7609.0</td>\n",
       "    </tr>\n",
       "    <tr>\n",
       "      <th>29</th>\n",
       "      <td>30</td>\n",
       "      <td>3</td>\n",
       "      <td>DODGE</td>\n",
       "      <td>coronet custom (sw)</td>\n",
       "      <td>gas</td>\n",
       "      <td>turbo</td>\n",
       "      <td>two</td>\n",
       "      <td>hatchback</td>\n",
       "      <td>fwd</td>\n",
       "      <td>front</td>\n",
       "      <td>...</td>\n",
       "      <td>156</td>\n",
       "      <td>mfi</td>\n",
       "      <td>3.60</td>\n",
       "      <td>3.90</td>\n",
       "      <td>7.0</td>\n",
       "      <td>145</td>\n",
       "      <td>5000</td>\n",
       "      <td>19</td>\n",
       "      <td>24</td>\n",
       "      <td>12964.0</td>\n",
       "    </tr>\n",
       "    <tr>\n",
       "      <th>68</th>\n",
       "      <td>69</td>\n",
       "      <td>-1</td>\n",
       "      <td>BUICK</td>\n",
       "      <td>century luxus (sw)</td>\n",
       "      <td>diesel</td>\n",
       "      <td>turbo</td>\n",
       "      <td>four</td>\n",
       "      <td>wagon</td>\n",
       "      <td>rwd</td>\n",
       "      <td>front</td>\n",
       "      <td>...</td>\n",
       "      <td>183</td>\n",
       "      <td>idi</td>\n",
       "      <td>3.58</td>\n",
       "      <td>3.64</td>\n",
       "      <td>21.5</td>\n",
       "      <td>123</td>\n",
       "      <td>4350</td>\n",
       "      <td>22</td>\n",
       "      <td>25</td>\n",
       "      <td>28248.0</td>\n",
       "    </tr>\n",
       "    <tr>\n",
       "      <th>109</th>\n",
       "      <td>110</td>\n",
       "      <td>0</td>\n",
       "      <td>PEUGEOT</td>\n",
       "      <td>504 (sw)</td>\n",
       "      <td>gas</td>\n",
       "      <td>std</td>\n",
       "      <td>four</td>\n",
       "      <td>wagon</td>\n",
       "      <td>rwd</td>\n",
       "      <td>front</td>\n",
       "      <td>...</td>\n",
       "      <td>120</td>\n",
       "      <td>mpfi</td>\n",
       "      <td>3.46</td>\n",
       "      <td>3.19</td>\n",
       "      <td>8.4</td>\n",
       "      <td>97</td>\n",
       "      <td>5000</td>\n",
       "      <td>19</td>\n",
       "      <td>24</td>\n",
       "      <td>12440.0</td>\n",
       "    </tr>\n",
       "    <tr>\n",
       "      <th>121</th>\n",
       "      <td>122</td>\n",
       "      <td>1</td>\n",
       "      <td>PLYMOUTH</td>\n",
       "      <td>satellite custom (sw)</td>\n",
       "      <td>gas</td>\n",
       "      <td>std</td>\n",
       "      <td>four</td>\n",
       "      <td>sedan</td>\n",
       "      <td>fwd</td>\n",
       "      <td>front</td>\n",
       "      <td>...</td>\n",
       "      <td>90</td>\n",
       "      <td>2bbl</td>\n",
       "      <td>2.97</td>\n",
       "      <td>3.23</td>\n",
       "      <td>9.4</td>\n",
       "      <td>68</td>\n",
       "      <td>5500</td>\n",
       "      <td>31</td>\n",
       "      <td>38</td>\n",
       "      <td>6692.0</td>\n",
       "    </tr>\n",
       "    <tr>\n",
       "      <th>154</th>\n",
       "      <td>155</td>\n",
       "      <td>0</td>\n",
       "      <td>TOYOTA</td>\n",
       "      <td>corolla 1600 (sw)</td>\n",
       "      <td>gas</td>\n",
       "      <td>std</td>\n",
       "      <td>four</td>\n",
       "      <td>wagon</td>\n",
       "      <td>4wd</td>\n",
       "      <td>front</td>\n",
       "      <td>...</td>\n",
       "      <td>92</td>\n",
       "      <td>2bbl</td>\n",
       "      <td>3.05</td>\n",
       "      <td>3.03</td>\n",
       "      <td>9.0</td>\n",
       "      <td>62</td>\n",
       "      <td>4800</td>\n",
       "      <td>27</td>\n",
       "      <td>32</td>\n",
       "      <td>7898.0</td>\n",
       "    </tr>\n",
       "    <tr>\n",
       "      <th>186</th>\n",
       "      <td>187</td>\n",
       "      <td>2</td>\n",
       "      <td>VOLKSWAGEN</td>\n",
       "      <td>411 (sw)</td>\n",
       "      <td>gas</td>\n",
       "      <td>std</td>\n",
       "      <td>four</td>\n",
       "      <td>sedan</td>\n",
       "      <td>fwd</td>\n",
       "      <td>front</td>\n",
       "      <td>...</td>\n",
       "      <td>109</td>\n",
       "      <td>mpfi</td>\n",
       "      <td>3.19</td>\n",
       "      <td>3.40</td>\n",
       "      <td>9.0</td>\n",
       "      <td>85</td>\n",
       "      <td>5250</td>\n",
       "      <td>27</td>\n",
       "      <td>34</td>\n",
       "      <td>8495.0</td>\n",
       "    </tr>\n",
       "    <tr>\n",
       "      <th>194</th>\n",
       "      <td>195</td>\n",
       "      <td>-2</td>\n",
       "      <td>VOLVO</td>\n",
       "      <td>145e (sw)</td>\n",
       "      <td>gas</td>\n",
       "      <td>std</td>\n",
       "      <td>four</td>\n",
       "      <td>sedan</td>\n",
       "      <td>rwd</td>\n",
       "      <td>front</td>\n",
       "      <td>...</td>\n",
       "      <td>141</td>\n",
       "      <td>mpfi</td>\n",
       "      <td>3.78</td>\n",
       "      <td>3.15</td>\n",
       "      <td>9.5</td>\n",
       "      <td>114</td>\n",
       "      <td>5400</td>\n",
       "      <td>23</td>\n",
       "      <td>28</td>\n",
       "      <td>12940.0</td>\n",
       "    </tr>\n",
       "    <tr>\n",
       "      <th>200</th>\n",
       "      <td>201</td>\n",
       "      <td>-1</td>\n",
       "      <td>VOLVO</td>\n",
       "      <td>145e (sw)</td>\n",
       "      <td>gas</td>\n",
       "      <td>std</td>\n",
       "      <td>four</td>\n",
       "      <td>sedan</td>\n",
       "      <td>rwd</td>\n",
       "      <td>front</td>\n",
       "      <td>...</td>\n",
       "      <td>141</td>\n",
       "      <td>mpfi</td>\n",
       "      <td>3.78</td>\n",
       "      <td>3.15</td>\n",
       "      <td>9.5</td>\n",
       "      <td>114</td>\n",
       "      <td>5400</td>\n",
       "      <td>23</td>\n",
       "      <td>28</td>\n",
       "      <td>16845.0</td>\n",
       "    </tr>\n",
       "  </tbody>\n",
       "</table>\n",
       "<p>10 rows × 27 columns</p>\n",
       "</div>"
      ],
      "text/plain": [
       "     car_ID  symboling     Company                  Model fueltype aspiration  \\\n",
       "24       25          1       DODGE            monaco (sw)      gas        std   \n",
       "26       27          1       DODGE              colt (sw)      gas        std   \n",
       "29       30          3       DODGE    coronet custom (sw)      gas      turbo   \n",
       "68       69         -1       BUICK     century luxus (sw)   diesel      turbo   \n",
       "109     110          0     PEUGEOT               504 (sw)      gas        std   \n",
       "121     122          1    PLYMOUTH  satellite custom (sw)      gas        std   \n",
       "154     155          0      TOYOTA      corolla 1600 (sw)      gas        std   \n",
       "186     187          2  VOLKSWAGEN               411 (sw)      gas        std   \n",
       "194     195         -2       VOLVO              145e (sw)      gas        std   \n",
       "200     201         -1       VOLVO              145e (sw)      gas        std   \n",
       "\n",
       "    doornumber    carbody drivewheel enginelocation  ...  enginesize  \\\n",
       "24        four  hatchback        fwd          front  ...          90   \n",
       "26        four      sedan        fwd          front  ...          90   \n",
       "29         two  hatchback        fwd          front  ...         156   \n",
       "68        four      wagon        rwd          front  ...         183   \n",
       "109       four      wagon        rwd          front  ...         120   \n",
       "121       four      sedan        fwd          front  ...          90   \n",
       "154       four      wagon        4wd          front  ...          92   \n",
       "186       four      sedan        fwd          front  ...         109   \n",
       "194       four      sedan        rwd          front  ...         141   \n",
       "200       four      sedan        rwd          front  ...         141   \n",
       "\n",
       "     fuelsystem  boreratio  stroke  compressionratio horsepower peakrpm  \\\n",
       "24         2bbl       2.97    3.23               9.4         68    5500   \n",
       "26         2bbl       2.97    3.23               9.4         68    5500   \n",
       "29          mfi       3.60    3.90               7.0        145    5000   \n",
       "68          idi       3.58    3.64              21.5        123    4350   \n",
       "109        mpfi       3.46    3.19               8.4         97    5000   \n",
       "121        2bbl       2.97    3.23               9.4         68    5500   \n",
       "154        2bbl       3.05    3.03               9.0         62    4800   \n",
       "186        mpfi       3.19    3.40               9.0         85    5250   \n",
       "194        mpfi       3.78    3.15               9.5        114    5400   \n",
       "200        mpfi       3.78    3.15               9.5        114    5400   \n",
       "\n",
       "     citympg highwaympg    price  \n",
       "24        31         38   6229.0  \n",
       "26        31         38   7609.0  \n",
       "29        19         24  12964.0  \n",
       "68        22         25  28248.0  \n",
       "109       19         24  12440.0  \n",
       "121       31         38   6692.0  \n",
       "154       27         32   7898.0  \n",
       "186       27         34   8495.0  \n",
       "194       23         28  12940.0  \n",
       "200       23         28  16845.0  \n",
       "\n",
       "[10 rows x 27 columns]"
      ]
     },
     "execution_count": 15,
     "metadata": {},
     "output_type": "execute_result"
    }
   ],
   "source": [
    "df[df['Model'].str.contains('sw')]"
   ]
  },
  {
   "cell_type": "code",
   "execution_count": 16,
   "id": "2140ca3f",
   "metadata": {},
   "outputs": [
    {
     "data": {
      "text/plain": [
       "24     157.3\n",
       "26     157.3\n",
       "29     173.2\n",
       "68     190.9\n",
       "109    198.9\n",
       "121    167.3\n",
       "154    169.7\n",
       "186    171.7\n",
       "194    188.8\n",
       "200    188.8\n",
       "Name: carlength, dtype: float64"
      ]
     },
     "execution_count": 16,
     "metadata": {},
     "output_type": "execute_result"
    }
   ],
   "source": [
    "df['carlength'][df['Model'].str.contains('sw')]"
   ]
  },
  {
   "cell_type": "markdown",
   "id": "77782ea7",
   "metadata": {},
   "source": [
    "###### -> les appellations de certains model contient 'sw' ce qui contradictoir avec les données 'carbody'\n",
    "###### -> une voiture sw est définie par sa longueur, on conclue qu'il s'agir d'anomalie sur les données "
   ]
  },
  {
   "cell_type": "code",
   "execution_count": 17,
   "id": "e2253b24",
   "metadata": {},
   "outputs": [
    {
     "data": {
      "text/html": [
       "<div>\n",
       "<style scoped>\n",
       "    .dataframe tbody tr th:only-of-type {\n",
       "        vertical-align: middle;\n",
       "    }\n",
       "\n",
       "    .dataframe tbody tr th {\n",
       "        vertical-align: top;\n",
       "    }\n",
       "\n",
       "    .dataframe thead th {\n",
       "        text-align: right;\n",
       "    }\n",
       "</style>\n",
       "<table border=\"1\" class=\"dataframe\">\n",
       "  <thead>\n",
       "    <tr style=\"text-align: right;\">\n",
       "      <th></th>\n",
       "      <th>car_ID</th>\n",
       "      <th>symboling</th>\n",
       "      <th>Company</th>\n",
       "      <th>Model</th>\n",
       "      <th>fueltype</th>\n",
       "      <th>aspiration</th>\n",
       "      <th>doornumber</th>\n",
       "      <th>carbody</th>\n",
       "      <th>drivewheel</th>\n",
       "      <th>enginelocation</th>\n",
       "      <th>...</th>\n",
       "      <th>enginesize</th>\n",
       "      <th>fuelsystem</th>\n",
       "      <th>boreratio</th>\n",
       "      <th>stroke</th>\n",
       "      <th>compressionratio</th>\n",
       "      <th>horsepower</th>\n",
       "      <th>peakrpm</th>\n",
       "      <th>citympg</th>\n",
       "      <th>highwaympg</th>\n",
       "      <th>price</th>\n",
       "    </tr>\n",
       "  </thead>\n",
       "  <tbody>\n",
       "    <tr>\n",
       "      <th>74</th>\n",
       "      <td>75</td>\n",
       "      <td>1</td>\n",
       "      <td>BUICK</td>\n",
       "      <td>regal sport coupe (turbo)</td>\n",
       "      <td>gas</td>\n",
       "      <td>std</td>\n",
       "      <td>two</td>\n",
       "      <td>hardtop</td>\n",
       "      <td>rwd</td>\n",
       "      <td>front</td>\n",
       "      <td>...</td>\n",
       "      <td>304</td>\n",
       "      <td>mpfi</td>\n",
       "      <td>3.8</td>\n",
       "      <td>3.35</td>\n",
       "      <td>8.0</td>\n",
       "      <td>184</td>\n",
       "      <td>4500</td>\n",
       "      <td>14</td>\n",
       "      <td>16</td>\n",
       "      <td>45400.0</td>\n",
       "    </tr>\n",
       "    <tr>\n",
       "      <th>114</th>\n",
       "      <td>115</td>\n",
       "      <td>0</td>\n",
       "      <td>PEUGEOT</td>\n",
       "      <td>505s turbo diesel</td>\n",
       "      <td>diesel</td>\n",
       "      <td>turbo</td>\n",
       "      <td>four</td>\n",
       "      <td>wagon</td>\n",
       "      <td>rwd</td>\n",
       "      <td>front</td>\n",
       "      <td>...</td>\n",
       "      <td>152</td>\n",
       "      <td>idi</td>\n",
       "      <td>3.7</td>\n",
       "      <td>3.52</td>\n",
       "      <td>21.0</td>\n",
       "      <td>95</td>\n",
       "      <td>4150</td>\n",
       "      <td>25</td>\n",
       "      <td>25</td>\n",
       "      <td>17075.0</td>\n",
       "    </tr>\n",
       "  </tbody>\n",
       "</table>\n",
       "<p>2 rows × 27 columns</p>\n",
       "</div>"
      ],
      "text/plain": [
       "     car_ID  symboling  Company                      Model fueltype  \\\n",
       "74       75          1    BUICK  regal sport coupe (turbo)      gas   \n",
       "114     115          0  PEUGEOT          505s turbo diesel   diesel   \n",
       "\n",
       "    aspiration doornumber  carbody drivewheel enginelocation  ...  enginesize  \\\n",
       "74         std        two  hardtop        rwd          front  ...         304   \n",
       "114      turbo       four    wagon        rwd          front  ...         152   \n",
       "\n",
       "     fuelsystem  boreratio  stroke  compressionratio horsepower peakrpm  \\\n",
       "74         mpfi        3.8    3.35               8.0        184    4500   \n",
       "114         idi        3.7    3.52              21.0         95    4150   \n",
       "\n",
       "     citympg highwaympg    price  \n",
       "74        14         16  45400.0  \n",
       "114       25         25  17075.0  \n",
       "\n",
       "[2 rows x 27 columns]"
      ]
     },
     "execution_count": 17,
     "metadata": {},
     "output_type": "execute_result"
    }
   ],
   "source": [
    "df[df['Model'].str.contains('turbo')]"
   ]
  },
  {
   "cell_type": "code",
   "execution_count": 18,
   "id": "f4568861",
   "metadata": {},
   "outputs": [
    {
     "data": {
      "text/html": [
       "<div>\n",
       "<style scoped>\n",
       "    .dataframe tbody tr th:only-of-type {\n",
       "        vertical-align: middle;\n",
       "    }\n",
       "\n",
       "    .dataframe tbody tr th {\n",
       "        vertical-align: top;\n",
       "    }\n",
       "\n",
       "    .dataframe thead th {\n",
       "        text-align: right;\n",
       "    }\n",
       "</style>\n",
       "<table border=\"1\" class=\"dataframe\">\n",
       "  <thead>\n",
       "    <tr style=\"text-align: right;\">\n",
       "      <th></th>\n",
       "      <th>car_ID</th>\n",
       "      <th>symboling</th>\n",
       "      <th>Company</th>\n",
       "      <th>Model</th>\n",
       "      <th>fueltype</th>\n",
       "      <th>aspiration</th>\n",
       "      <th>doornumber</th>\n",
       "      <th>carbody</th>\n",
       "      <th>drivewheel</th>\n",
       "      <th>enginelocation</th>\n",
       "      <th>...</th>\n",
       "      <th>enginesize</th>\n",
       "      <th>fuelsystem</th>\n",
       "      <th>boreratio</th>\n",
       "      <th>stroke</th>\n",
       "      <th>compressionratio</th>\n",
       "      <th>horsepower</th>\n",
       "      <th>peakrpm</th>\n",
       "      <th>citympg</th>\n",
       "      <th>highwaympg</th>\n",
       "      <th>price</th>\n",
       "    </tr>\n",
       "  </thead>\n",
       "  <tbody>\n",
       "    <tr>\n",
       "      <th>25</th>\n",
       "      <td>26</td>\n",
       "      <td>1</td>\n",
       "      <td>DODGE</td>\n",
       "      <td>colt hardtop</td>\n",
       "      <td>gas</td>\n",
       "      <td>std</td>\n",
       "      <td>four</td>\n",
       "      <td>sedan</td>\n",
       "      <td>fwd</td>\n",
       "      <td>front</td>\n",
       "      <td>...</td>\n",
       "      <td>90</td>\n",
       "      <td>2bbl</td>\n",
       "      <td>2.97</td>\n",
       "      <td>3.23</td>\n",
       "      <td>9.4</td>\n",
       "      <td>68</td>\n",
       "      <td>5500</td>\n",
       "      <td>31</td>\n",
       "      <td>38</td>\n",
       "      <td>6692.0</td>\n",
       "    </tr>\n",
       "    <tr>\n",
       "      <th>153</th>\n",
       "      <td>154</td>\n",
       "      <td>0</td>\n",
       "      <td>TOYOTA</td>\n",
       "      <td>corona hardtop</td>\n",
       "      <td>gas</td>\n",
       "      <td>std</td>\n",
       "      <td>four</td>\n",
       "      <td>wagon</td>\n",
       "      <td>fwd</td>\n",
       "      <td>front</td>\n",
       "      <td>...</td>\n",
       "      <td>92</td>\n",
       "      <td>2bbl</td>\n",
       "      <td>3.05</td>\n",
       "      <td>3.03</td>\n",
       "      <td>9.0</td>\n",
       "      <td>62</td>\n",
       "      <td>4800</td>\n",
       "      <td>31</td>\n",
       "      <td>37</td>\n",
       "      <td>6918.0</td>\n",
       "    </tr>\n",
       "  </tbody>\n",
       "</table>\n",
       "<p>2 rows × 27 columns</p>\n",
       "</div>"
      ],
      "text/plain": [
       "     car_ID  symboling Company           Model fueltype aspiration doornumber  \\\n",
       "25       26          1   DODGE    colt hardtop      gas        std       four   \n",
       "153     154          0  TOYOTA  corona hardtop      gas        std       four   \n",
       "\n",
       "    carbody drivewheel enginelocation  ...  enginesize  fuelsystem  boreratio  \\\n",
       "25    sedan        fwd          front  ...          90        2bbl       2.97   \n",
       "153   wagon        fwd          front  ...          92        2bbl       3.05   \n",
       "\n",
       "     stroke  compressionratio horsepower peakrpm  citympg highwaympg   price  \n",
       "25     3.23               9.4         68    5500       31         38  6692.0  \n",
       "153    3.03               9.0         62    4800       31         37  6918.0  \n",
       "\n",
       "[2 rows x 27 columns]"
      ]
     },
     "execution_count": 18,
     "metadata": {},
     "output_type": "execute_result"
    }
   ],
   "source": [
    "df[df['Model'].str.contains('hardtop')]"
   ]
  },
  {
   "cell_type": "code",
   "execution_count": 19,
   "id": "d6377456",
   "metadata": {},
   "outputs": [
    {
     "data": {
      "text/html": [
       "<div>\n",
       "<style scoped>\n",
       "    .dataframe tbody tr th:only-of-type {\n",
       "        vertical-align: middle;\n",
       "    }\n",
       "\n",
       "    .dataframe tbody tr th {\n",
       "        vertical-align: top;\n",
       "    }\n",
       "\n",
       "    .dataframe thead th {\n",
       "        text-align: right;\n",
       "    }\n",
       "</style>\n",
       "<table border=\"1\" class=\"dataframe\">\n",
       "  <thead>\n",
       "    <tr style=\"text-align: right;\">\n",
       "      <th></th>\n",
       "      <th>car_ID</th>\n",
       "      <th>symboling</th>\n",
       "      <th>Company</th>\n",
       "      <th>Model</th>\n",
       "      <th>fueltype</th>\n",
       "      <th>aspiration</th>\n",
       "      <th>doornumber</th>\n",
       "      <th>carbody</th>\n",
       "      <th>drivewheel</th>\n",
       "      <th>enginelocation</th>\n",
       "      <th>...</th>\n",
       "      <th>enginesize</th>\n",
       "      <th>fuelsystem</th>\n",
       "      <th>boreratio</th>\n",
       "      <th>stroke</th>\n",
       "      <th>compressionratio</th>\n",
       "      <th>horsepower</th>\n",
       "      <th>peakrpm</th>\n",
       "      <th>citympg</th>\n",
       "      <th>highwaympg</th>\n",
       "      <th>price</th>\n",
       "    </tr>\n",
       "  </thead>\n",
       "  <tbody>\n",
       "    <tr>\n",
       "      <th>52</th>\n",
       "      <td>53</td>\n",
       "      <td>1</td>\n",
       "      <td>MAZDA</td>\n",
       "      <td>rx2 coupe</td>\n",
       "      <td>gas</td>\n",
       "      <td>std</td>\n",
       "      <td>two</td>\n",
       "      <td>hatchback</td>\n",
       "      <td>fwd</td>\n",
       "      <td>front</td>\n",
       "      <td>...</td>\n",
       "      <td>91</td>\n",
       "      <td>2bbl</td>\n",
       "      <td>3.03</td>\n",
       "      <td>3.15</td>\n",
       "      <td>9.0</td>\n",
       "      <td>68</td>\n",
       "      <td>5000</td>\n",
       "      <td>31</td>\n",
       "      <td>38</td>\n",
       "      <td>6795.0</td>\n",
       "    </tr>\n",
       "    <tr>\n",
       "      <th>74</th>\n",
       "      <td>75</td>\n",
       "      <td>1</td>\n",
       "      <td>BUICK</td>\n",
       "      <td>regal sport coupe (turbo)</td>\n",
       "      <td>gas</td>\n",
       "      <td>std</td>\n",
       "      <td>two</td>\n",
       "      <td>hardtop</td>\n",
       "      <td>rwd</td>\n",
       "      <td>front</td>\n",
       "      <td>...</td>\n",
       "      <td>304</td>\n",
       "      <td>mpfi</td>\n",
       "      <td>3.80</td>\n",
       "      <td>3.35</td>\n",
       "      <td>8.0</td>\n",
       "      <td>184</td>\n",
       "      <td>4500</td>\n",
       "      <td>14</td>\n",
       "      <td>16</td>\n",
       "      <td>45400.0</td>\n",
       "    </tr>\n",
       "  </tbody>\n",
       "</table>\n",
       "<p>2 rows × 27 columns</p>\n",
       "</div>"
      ],
      "text/plain": [
       "    car_ID  symboling Company                      Model fueltype aspiration  \\\n",
       "52      53          1   MAZDA                  rx2 coupe      gas        std   \n",
       "74      75          1   BUICK  regal sport coupe (turbo)      gas        std   \n",
       "\n",
       "   doornumber    carbody drivewheel enginelocation  ...  enginesize  \\\n",
       "52        two  hatchback        fwd          front  ...          91   \n",
       "74        two    hardtop        rwd          front  ...         304   \n",
       "\n",
       "    fuelsystem  boreratio  stroke  compressionratio horsepower peakrpm  \\\n",
       "52        2bbl       3.03    3.15               9.0         68    5000   \n",
       "74        mpfi       3.80    3.35               8.0        184    4500   \n",
       "\n",
       "    citympg highwaympg    price  \n",
       "52       31         38   6795.0  \n",
       "74       14         16  45400.0  \n",
       "\n",
       "[2 rows x 27 columns]"
      ]
     },
     "execution_count": 19,
     "metadata": {},
     "output_type": "execute_result"
    }
   ],
   "source": [
    "df[df['Model'].str.contains('coupe')]"
   ]
  },
  {
   "cell_type": "code",
   "execution_count": null,
   "id": "6b321e04",
   "metadata": {},
   "outputs": [],
   "source": [
    "df['Model'] = df['Model'].replace({'diesel':'', '(diesel)':'', 'sw':'', '(sw)':'', 'turbo':'','hardtop':''})"
   ]
  },
  {
   "cell_type": "code",
   "execution_count": null,
   "id": "2786c9ab",
   "metadata": {},
   "outputs": [],
   "source": [
    "df = df[df['enginelocation'].str.contains('rear')]\n",
    "df = df[df['cylindernumber'].str.contains('three')]\n",
    "raw = raw[(raw.cylindernumber != 'three') & (raw.cylindernumber != 'twelve')].reset_index(drop=True)\n",
    "raw.loc[raw[\"CarName\"].str.contains('diesel'), \"fueltype\"] = \"diesel\"\n",
    "raw.loc[raw[\"CarName\"].str.contains('turbo'), \"aspiration\"] = \"turbo\"\n",
    "raw.loc[raw[\"CarName\"].str.contains('\"(sw)\"'), \"carbody\"] = \"wagon\"\n",
    "raw['enginetype'] = raw['enginetype'].replace({'dohcv':'dohc', 'ohcv': 'dohc', 'ohcf': 'dohc'})\n",
    "raw['fuelsystem'] = raw['fuelsystem'].replace({'mfi':'mpfi', 'spfi': '2bbl'})\n",
    "#raw_data['fueltype'] = np.where((raw_data.CarName.contains('CarName')),'diesel', raw_data.fueltype)"
   ]
  },
  {
   "cell_type": "code",
   "execution_count": null,
   "id": "fc2bbc5d",
   "metadata": {},
   "outputs": [],
   "source": [
    "record(df,'data_clean','CURATED')"
   ]
  },
  {
   "cell_type": "markdown",
   "id": "c19bb164",
   "metadata": {},
   "source": [
    "## Analyzis"
   ]
  },
  {
   "cell_type": "code",
   "execution_count": 20,
   "id": "e4a7b9d0",
   "metadata": {},
   "outputs": [
    {
     "data": {
      "image/png": "[encoded data removed]",
      "text/plain": [
       "<Figure size 2160x720 with 3 Axes>"
      ]
     },
     "metadata": {
      "needs_background": "light"
     },
     "output_type": "display_data"
    }
   ],
   "source": [
    "plt.figure(figsize=(30, 10))\n",
    "\n",
    "plt.subplot(1,3,1)\n",
    "plt1=sns.countplot(df.drivewheel, palette=(\"cubehelix\"))\n",
    "plt.title('cylindernumber Histogram')\n",
    "plt1.set(xlabel = 'cylindernumber', ylabel='Frequency of company')\n",
    "\n",
    "plt.subplot(1,3,2)\n",
    "plt1 = sns.countplot(df.enginelocation, palette=(\"cubehelix\"))\n",
    "plt.title('Fuel System Histogram')\n",
    "plt1.set(xlabel = 'Fuel System', ylabel='Frequency of fuel type')\n",
    "\n",
    "plt.subplot(1,3,3)\n",
    "plt1 = sns.countplot(df.doornumber, palette=(\"cubehelix\"))\n",
    "plt.title('Engine Type Histogram')\n",
    "plt1.set(xlabel = 'Engine Type', ylabel='Frequency of Car type')\n",
    "\n",
    "plt.show()"
   ]
  },
  {
   "cell_type": "code",
   "execution_count": 21,
   "id": "8b1a6e79",
   "metadata": {},
   "outputs": [
    {
     "data": {
      "image/png": "[encoded data removed]",
      "text/plain": [
       "<Figure size 1440x576 with 2 Axes>"
      ]
     },
     "metadata": {
      "needs_background": "light"
     },
     "output_type": "display_data"
    },
    {
     "name": "stdout",
     "output_type": "stream",
     "text": [
      "skw:\n",
      " 1.7776781560914454\n",
      "kur:\n",
      " 3.051647871396399\n"
     ]
    }
   ],
   "source": [
    "plt.figure(figsize=(20,8))\n",
    "\n",
    "plt.subplot(1,2,1)\n",
    "plt.title('Car Price Distribution Plot')\n",
    "sns.distplot(df.price)\n",
    "\n",
    "plt.subplot(1,2,2)\n",
    "plt.title('Car Price Spread')\n",
    "sns.boxplot(y=df.price)\n",
    "\n",
    "plt.show()\n",
    "print(\"skw:\\n\",df['price'].skew())\n",
    "print(\"kur:\\n\",df['price'].kurtosis())"
   ]
  },
  {
   "cell_type": "code",
   "execution_count": 22,
   "id": "fd3f3fb4",
   "metadata": {
    "scrolled": true
   },
   "outputs": [
    {
     "name": "stdout",
     "output_type": "stream",
     "text": [
      "age distribution by sex and category\n"
     ]
    },
    {
     "data": {
      "image/png": "[encoded data removed]",
      "text/plain": [
       "<Figure size 648x324 with 1 Axes>"
      ]
     },
     "metadata": {
      "needs_background": "light"
     },
     "output_type": "display_data"
    }
   ],
   "source": [
    "g = sns.catplot(y=\"Company\", x=\"price\", kind=\"box\", data=df, height=4.5, aspect=2)\n",
    "g.set_axis_labels(\"Price \", \"cars Brand\")\n",
    "print('age distribution by sex and category')"
   ]
  },
  {
   "cell_type": "code",
   "execution_count": 23,
   "id": "6cc76015",
   "metadata": {},
   "outputs": [
    {
     "data": {
      "image/png": "[encoded data removed]",
      "text/plain": [
       "<Figure size 864x576 with 1 Axes>"
      ]
     },
     "metadata": {
      "needs_background": "light"
     },
     "output_type": "display_data"
    }
   ],
   "source": [
    "f, ax = plt.subplots(figsize=(12, 8))\n",
    "sns.stripplot(data = df, x='price', y='Company', jitter=.1)\n",
    "#plt.axvline(x=20000, color='red',ls='--')\n",
    "plt.show()"
   ]
  },
  {
   "cell_type": "code",
   "execution_count": 24,
   "id": "078e2cd0",
   "metadata": {},
   "outputs": [
    {
     "data": {
      "image/png": "[encoded data removed]",
      "text/plain": [
       "<Figure size 1224x576 with 1 Axes>"
      ]
     },
     "metadata": {
      "needs_background": "light"
     },
     "output_type": "display_data"
    }
   ],
   "source": [
    "plt.figure(figsize=(17,8))\n",
    "df.Company.value_counts().nlargest(20).plot(kind='barh')\n",
    "plt.xlabel('brand Frequency')\n",
    "plt.title(\"Frequency of TOP 20 Company distribution\",fontsize=18)\n",
    "plt.show()"
   ]
  },
  {
   "cell_type": "code",
   "execution_count": 25,
   "id": "ebeb7ff3",
   "metadata": {},
   "outputs": [
    {
     "name": "stdout",
     "output_type": "stream",
     "text": [
      "age distribution by sex and category\n"
     ]
    },
    {
     "data": {
      "image/png": "[encoded data removed]",
      "text/plain": [
       "<Figure size 530.05x288 with 1 Axes>"
      ]
     },
     "metadata": {
      "needs_background": "light"
     },
     "output_type": "display_data"
    }
   ],
   "source": [
    "g = sns.catplot(y=\"enginesize\", x=\"carbody\", hue='doornumber', kind=\"box\", data=df, height=4, aspect=8/5)\n",
    "g.set_axis_labels(\"carbody \", \"enginesize\")\n",
    "print('age distribution by sex and category')"
   ]
  },
  {
   "cell_type": "code",
   "execution_count": 26,
   "id": "e5718316",
   "metadata": {},
   "outputs": [
    {
     "data": {
      "image/png": "[encoded data removed]",
      "text/plain": [
       "<Figure size 720x504 with 1 Axes>"
      ]
     },
     "metadata": {
      "needs_background": "light"
     },
     "output_type": "display_data"
    }
   ],
   "source": [
    "f, ax = plt.subplots(figsize=(10, 7))\n",
    "sns.stripplot(data = df, x='carbody', y='price', jitter=.5)\n",
    "plt.show()"
   ]
  },
  {
   "cell_type": "code",
   "execution_count": 27,
   "id": "bb9bad5f",
   "metadata": {},
   "outputs": [
    {
     "data": {
      "image/png": "[encoded data removed]",
      "text/plain": [
       "<Figure size 2160x720 with 3 Axes>"
      ]
     },
     "metadata": {
      "needs_background": "light"
     },
     "output_type": "display_data"
    }
   ],
   "source": [
    "plt.figure(figsize=(30, 10))\n",
    "\n",
    "plt.subplot(1,3,1)\n",
    "plt1=sns.countplot(df.cylindernumber, palette=(\"cubehelix\"))\n",
    "plt.title('cylindernumber Histogram')\n",
    "plt1.set(xlabel = 'cylindernumber', ylabel='Frequency of company')\n",
    "\n",
    "plt.subplot(1,3,2)\n",
    "plt1 = sns.countplot(df.fuelsystem, palette=(\"cubehelix\"))\n",
    "plt.title('Fuel System Histogram')\n",
    "plt1.set(xlabel = 'Fuel System', ylabel='Frequency of fuel type')\n",
    "\n",
    "plt.subplot(1,3,3)\n",
    "plt1 = sns.countplot(df.enginetype, palette=(\"cubehelix\"))\n",
    "plt.title('Engine Type Histogram')\n",
    "plt1.set(xlabel = 'Engine Type', ylabel='Frequency of Car type')\n",
    "\n",
    "plt.show()"
   ]
  },
  {
   "cell_type": "code",
   "execution_count": 28,
   "id": "ce5a6d3a",
   "metadata": {},
   "outputs": [
    {
     "data": {
      "image/png": "[encoded data removed]",
      "text/plain": [
       "<Figure size 1440x576 with 2 Axes>"
      ]
     },
     "metadata": {
      "needs_background": "light"
     },
     "output_type": "display_data"
    }
   ],
   "source": [
    "plt.figure(figsize=(20,8))\n",
    "\n",
    "plt.subplot(1,2,1)\n",
    "plt.title('Symboling Histogram')\n",
    "sns.countplot(df.symboling, palette=(\"cubehelix\"))\n",
    "\n",
    "plt.subplot(1,2,2)\n",
    "plt.title('Symboling vs Price')\n",
    "sns.boxplot(x=df.symboling, y=df.price, palette=(\"cubehelix\"))\n",
    "\n",
    "plt.show()"
   ]
  },
  {
   "cell_type": "code",
   "execution_count": 35,
   "id": "3ed92a92",
   "metadata": {},
   "outputs": [
    {
     "data": {
      "text/plain": [
       "<AxesSubplot:xlabel='price', ylabel='Density'>"
      ]
     },
     "execution_count": 35,
     "metadata": {},
     "output_type": "execute_result"
    },
    {
     "data": {
      "image/png": "[encoded data removed]",
      "text/plain": [
       "<Figure size 432x288 with 1 Axes>"
      ]
     },
     "metadata": {
      "needs_background": "light"
     },
     "output_type": "display_data"
    }
   ],
   "source": [
    "sns.kdeplot(data=df ,x=\"price\", hue=\"carbody\",cut=0 ,fill=True, palette='icefire_r',common_norm=False, alpha =0.3)"
   ]
  },
  {
   "cell_type": "markdown",
   "id": "b362c174",
   "metadata": {},
   "source": [
    "#### Averge Price & Category"
   ]
  },
  {
   "cell_type": "code",
   "execution_count": 29,
   "id": "e6d588d4",
   "metadata": {},
   "outputs": [
    {
     "data": {
      "text/html": [
       "<div>\n",
       "<style scoped>\n",
       "    .dataframe tbody tr th:only-of-type {\n",
       "        vertical-align: middle;\n",
       "    }\n",
       "\n",
       "    .dataframe tbody tr th {\n",
       "        vertical-align: top;\n",
       "    }\n",
       "\n",
       "    .dataframe thead th {\n",
       "        text-align: right;\n",
       "    }\n",
       "</style>\n",
       "<table border=\"1\" class=\"dataframe\">\n",
       "  <thead>\n",
       "    <tr style=\"text-align: right;\">\n",
       "      <th></th>\n",
       "      <th>Company</th>\n",
       "      <th>avg_price</th>\n",
       "      <th>category</th>\n",
       "    </tr>\n",
       "  </thead>\n",
       "  <tbody>\n",
       "    <tr>\n",
       "      <th>0</th>\n",
       "      <td>ALFA-ROMERO</td>\n",
       "      <td>15498.33</td>\n",
       "      <td>Medium</td>\n",
       "    </tr>\n",
       "    <tr>\n",
       "      <th>1</th>\n",
       "      <td>AUDI</td>\n",
       "      <td>17859.17</td>\n",
       "      <td>Medium</td>\n",
       "    </tr>\n",
       "    <tr>\n",
       "      <th>2</th>\n",
       "      <td>BMW</td>\n",
       "      <td>26118.75</td>\n",
       "      <td>Hight</td>\n",
       "    </tr>\n",
       "    <tr>\n",
       "      <th>3</th>\n",
       "      <td>BUICK</td>\n",
       "      <td>33647.00</td>\n",
       "      <td>Hight</td>\n",
       "    </tr>\n",
       "    <tr>\n",
       "      <th>4</th>\n",
       "      <td>CHEVROLET</td>\n",
       "      <td>6007.00</td>\n",
       "      <td>Cheap</td>\n",
       "    </tr>\n",
       "    <tr>\n",
       "      <th>5</th>\n",
       "      <td>DODGE</td>\n",
       "      <td>7875.44</td>\n",
       "      <td>Cheap</td>\n",
       "    </tr>\n",
       "    <tr>\n",
       "      <th>6</th>\n",
       "      <td>HONDA</td>\n",
       "      <td>8184.69</td>\n",
       "      <td>Cheap</td>\n",
       "    </tr>\n",
       "    <tr>\n",
       "      <th>7</th>\n",
       "      <td>ISUZU</td>\n",
       "      <td>8916.50</td>\n",
       "      <td>Cheap</td>\n",
       "    </tr>\n",
       "    <tr>\n",
       "      <th>8</th>\n",
       "      <td>JAGUAR</td>\n",
       "      <td>34600.00</td>\n",
       "      <td>Hight</td>\n",
       "    </tr>\n",
       "    <tr>\n",
       "      <th>9</th>\n",
       "      <td>MAZDA</td>\n",
       "      <td>10652.88</td>\n",
       "      <td>Medium</td>\n",
       "    </tr>\n",
       "    <tr>\n",
       "      <th>10</th>\n",
       "      <td>MERCURY</td>\n",
       "      <td>16503.00</td>\n",
       "      <td>Medium</td>\n",
       "    </tr>\n",
       "    <tr>\n",
       "      <th>11</th>\n",
       "      <td>MITSUBISHI</td>\n",
       "      <td>9239.77</td>\n",
       "      <td>Cheap</td>\n",
       "    </tr>\n",
       "    <tr>\n",
       "      <th>12</th>\n",
       "      <td>NISSAN</td>\n",
       "      <td>10415.67</td>\n",
       "      <td>Medium</td>\n",
       "    </tr>\n",
       "    <tr>\n",
       "      <th>13</th>\n",
       "      <td>PEUGEOT</td>\n",
       "      <td>15489.09</td>\n",
       "      <td>Medium</td>\n",
       "    </tr>\n",
       "    <tr>\n",
       "      <th>14</th>\n",
       "      <td>PLYMOUTH</td>\n",
       "      <td>7963.43</td>\n",
       "      <td>Cheap</td>\n",
       "    </tr>\n",
       "    <tr>\n",
       "      <th>15</th>\n",
       "      <td>PORSCHE</td>\n",
       "      <td>31400.50</td>\n",
       "      <td>Hight</td>\n",
       "    </tr>\n",
       "    <tr>\n",
       "      <th>16</th>\n",
       "      <td>RENAULT</td>\n",
       "      <td>9595.00</td>\n",
       "      <td>Cheap</td>\n",
       "    </tr>\n",
       "    <tr>\n",
       "      <th>17</th>\n",
       "      <td>SAAB</td>\n",
       "      <td>15223.33</td>\n",
       "      <td>Medium</td>\n",
       "    </tr>\n",
       "    <tr>\n",
       "      <th>18</th>\n",
       "      <td>SUBARU</td>\n",
       "      <td>8541.25</td>\n",
       "      <td>Cheap</td>\n",
       "    </tr>\n",
       "    <tr>\n",
       "      <th>19</th>\n",
       "      <td>TOYOTA</td>\n",
       "      <td>9885.81</td>\n",
       "      <td>Cheap</td>\n",
       "    </tr>\n",
       "    <tr>\n",
       "      <th>20</th>\n",
       "      <td>VOLKSWAGEN</td>\n",
       "      <td>10077.50</td>\n",
       "      <td>Medium</td>\n",
       "    </tr>\n",
       "    <tr>\n",
       "      <th>21</th>\n",
       "      <td>VOLVO</td>\n",
       "      <td>18063.18</td>\n",
       "      <td>Medium</td>\n",
       "    </tr>\n",
       "  </tbody>\n",
       "</table>\n",
       "</div>"
      ],
      "text/plain": [
       "        Company  avg_price category\n",
       "0   ALFA-ROMERO   15498.33   Medium\n",
       "1          AUDI   17859.17   Medium\n",
       "2           BMW   26118.75    Hight\n",
       "3         BUICK   33647.00    Hight\n",
       "4     CHEVROLET    6007.00    Cheap\n",
       "5         DODGE    7875.44    Cheap\n",
       "6         HONDA    8184.69    Cheap\n",
       "7         ISUZU    8916.50    Cheap\n",
       "8        JAGUAR   34600.00    Hight\n",
       "9         MAZDA   10652.88   Medium\n",
       "10      MERCURY   16503.00   Medium\n",
       "11   MITSUBISHI    9239.77    Cheap\n",
       "12       NISSAN   10415.67   Medium\n",
       "13      PEUGEOT   15489.09   Medium\n",
       "14     PLYMOUTH    7963.43    Cheap\n",
       "15      PORSCHE   31400.50    Hight\n",
       "16      RENAULT    9595.00    Cheap\n",
       "17         SAAB   15223.33   Medium\n",
       "18       SUBARU    8541.25    Cheap\n",
       "19       TOYOTA    9885.81    Cheap\n",
       "20   VOLKSWAGEN   10077.50   Medium\n",
       "21        VOLVO   18063.18   Medium"
      ]
     },
     "execution_count": 29,
     "metadata": {},
     "output_type": "execute_result"
    }
   ],
   "source": [
    "avg_price = df.groupby(['Company'])['price'].mean().round(2).reset_index().rename(columns={'price':'avg_price'})\n",
    "avg_price['category'] = avg_price['avg_price'].apply(lambda x : \"Cheap\" if x < 10000 else (\"Medium\" if 10000 <= x < 20000 else \"Hight\"))\n",
    "avg_price"
   ]
  },
  {
   "cell_type": "markdown",
   "id": "4ba47ab6",
   "metadata": {},
   "source": [
    "## Linear regression "
   ]
  },
  {
   "cell_type": "markdown",
   "id": "42c3f211",
   "metadata": {},
   "source": [
    "####  Dummies and  scaling features"
   ]
  },
  {
   "cell_type": "code",
   "execution_count": 121,
   "id": "0109cd00",
   "metadata": {},
   "outputs": [],
   "source": [
    "scalX=RobustScaler()\n",
    "scaly=RobustScaler()\n",
    "# Dummies of categorical variables\n",
    "df_categ=df.select_dtypes(include=['object_'])\n",
    "df_categ=df_categ.drop(columns=['Company','Model'])\n",
    "df_encoded = pd.get_dummies(df_categ)\n",
    "# Scaling numerical variables\n",
    "df_num = df.select_dtypes(exclude=['object_'])\n",
    "df_num=df_num.drop(columns=['car_ID','symboling'])\n",
    "var=df_num.iloc[:,:-1]\n",
    "tar=df_num.iloc[:,-1]\n",
    "scalX.fit(var.values)\n",
    "scaly.fit(tar.values.reshape(-1, 1))\n",
    "df_var=pd.DataFrame(scalX.transform(var.values), columns=var.columns)\n",
    "target=pd.DataFrame(scaly.transform(tar.values.reshape(-1, 1)), columns=['price'])\n",
    "# concatenation\n",
    "df_scale=pd.concat([df_var, target], axis = 1)\n",
    "df_model = pd.concat([df_encoded, df_var], axis = 1)"
   ]
  },
  {
   "cell_type": "code",
   "execution_count": 52,
   "id": "d1819b9c",
   "metadata": {
    "scrolled": true
   },
   "outputs": [
    {
     "data": {
      "text/plain": [
       "<AxesSubplot:xlabel='curbweight', ylabel='price'>"
      ]
     },
     "execution_count": 52,
     "metadata": {},
     "output_type": "execute_result"
    },
    {
     "data": {
      "image/png": "[encoded data removed]",
      "text/plain": [
       "<Figure size 432x288 with 1 Axes>"
      ]
     },
     "metadata": {
      "needs_background": "light"
     },
     "output_type": "display_data"
    }
   ],
   "source": [
    "sns.regplot(y='price', x='curbweight', data=df_scale)"
   ]
  },
  {
   "cell_type": "code",
   "execution_count": 123,
   "id": "7d5da114",
   "metadata": {},
   "outputs": [
    {
     "data": {
      "text/html": [
       "<table class=\"simpletable\">\n",
       "<caption>OLS Regression Results</caption>\n",
       "<tr>\n",
       "  <th>Dep. Variable:</th>          <td>price</td>      <th>  R-squared (uncentered):</th>      <td>   0.717</td>\n",
       "</tr>\n",
       "<tr>\n",
       "  <th>Model:</th>                   <td>OLS</td>       <th>  Adj. R-squared (uncentered):</th> <td>   0.716</td>\n",
       "</tr>\n",
       "<tr>\n",
       "  <th>Method:</th>             <td>Least Squares</td>  <th>  F-statistic:       </th>          <td>   517.7</td>\n",
       "</tr>\n",
       "<tr>\n",
       "  <th>Date:</th>             <td>Wed, 22 Sep 2021</td> <th>  Prob (F-statistic):</th>          <td>7.05e-58</td>\n",
       "</tr>\n",
       "<tr>\n",
       "  <th>Time:</th>                 <td>16:56:47</td>     <th>  Log-Likelihood:    </th>          <td> -156.47</td>\n",
       "</tr>\n",
       "<tr>\n",
       "  <th>No. Observations:</th>      <td>   205</td>      <th>  AIC:               </th>          <td>   314.9</td>\n",
       "</tr>\n",
       "<tr>\n",
       "  <th>Df Residuals:</th>          <td>   204</td>      <th>  BIC:               </th>          <td>   318.3</td>\n",
       "</tr>\n",
       "<tr>\n",
       "  <th>Df Model:</th>              <td>     1</td>      <th>                     </th>              <td> </td>   \n",
       "</tr>\n",
       "<tr>\n",
       "  <th>Covariance Type:</th>      <td>nonrobust</td>    <th>                     </th>              <td> </td>   \n",
       "</tr>\n",
       "</table>\n",
       "<table class=\"simpletable\">\n",
       "<tr>\n",
       "       <td></td>         <th>coef</th>     <th>std err</th>      <th>t</th>      <th>P>|t|</th>  <th>[0.025</th>    <th>0.975]</th>  \n",
       "</tr>\n",
       "<tr>\n",
       "  <th>curbweight</th> <td>    1.2135</td> <td>    0.053</td> <td>   22.753</td> <td> 0.000</td> <td>    1.108</td> <td>    1.319</td>\n",
       "</tr>\n",
       "</table>\n",
       "<table class=\"simpletable\">\n",
       "<tr>\n",
       "  <th>Omnibus:</th>       <td>75.382</td> <th>  Durbin-Watson:     </th> <td>   0.552</td>\n",
       "</tr>\n",
       "<tr>\n",
       "  <th>Prob(Omnibus):</th> <td> 0.000</td> <th>  Jarque-Bera (JB):  </th> <td> 318.970</td>\n",
       "</tr>\n",
       "<tr>\n",
       "  <th>Skew:</th>          <td> 1.398</td> <th>  Prob(JB):          </th> <td>5.45e-70</td>\n",
       "</tr>\n",
       "<tr>\n",
       "  <th>Kurtosis:</th>      <td> 8.434</td> <th>  Cond. No.          </th> <td>    1.00</td>\n",
       "</tr>\n",
       "</table><br/><br/>Notes:<br/>[1] R² is computed without centering (uncentered) since the model does not contain a constant.<br/>[2] Standard Errors assume that the covariance matrix of the errors is correctly specified."
      ],
      "text/plain": [
       "<class 'statsmodels.iolib.summary.Summary'>\n",
       "\"\"\"\n",
       "                                 OLS Regression Results                                \n",
       "=======================================================================================\n",
       "Dep. Variable:                  price   R-squared (uncentered):                   0.717\n",
       "Model:                            OLS   Adj. R-squared (uncentered):              0.716\n",
       "Method:                 Least Squares   F-statistic:                              517.7\n",
       "Date:                Wed, 22 Sep 2021   Prob (F-statistic):                    7.05e-58\n",
       "Time:                        16:56:47   Log-Likelihood:                         -156.47\n",
       "No. Observations:                 205   AIC:                                      314.9\n",
       "Df Residuals:                     204   BIC:                                      318.3\n",
       "Df Model:                           1                                                  \n",
       "Covariance Type:            nonrobust                                                  \n",
       "==============================================================================\n",
       "                 coef    std err          t      P>|t|      [0.025      0.975]\n",
       "------------------------------------------------------------------------------\n",
       "curbweight     1.2135      0.053     22.753      0.000       1.108       1.319\n",
       "==============================================================================\n",
       "Omnibus:                       75.382   Durbin-Watson:                   0.552\n",
       "Prob(Omnibus):                  0.000   Jarque-Bera (JB):              318.970\n",
       "Skew:                           1.398   Prob(JB):                     5.45e-70\n",
       "Kurtosis:                       8.434   Cond. No.                         1.00\n",
       "==============================================================================\n",
       "\n",
       "Notes:\n",
       "[1] R² is computed without centering (uncentered) since the model does not contain a constant.\n",
       "[2] Standard Errors assume that the covariance matrix of the errors is correctly specified.\n",
       "\"\"\""
      ]
     },
     "execution_count": 123,
     "metadata": {},
     "output_type": "execute_result"
    }
   ],
   "source": [
    "mod = sm.OLS(df_scale['price'], df_scale['curbweight'])\n",
    "res = mod.fit()\n",
    "res.summary()"
   ]
  },
  {
   "cell_type": "code",
   "execution_count": 54,
   "id": "f82133aa",
   "metadata": {},
   "outputs": [
    {
     "data": {
      "text/plain": [
       "<AxesSubplot:xlabel='enginesize', ylabel='price'>"
      ]
     },
     "execution_count": 54,
     "metadata": {},
     "output_type": "execute_result"
    },
    {
     "data": {
      "image/png": "[encoded data removed]",
      "text/plain": [
       "<Figure size 432x288 with 1 Axes>"
      ]
     },
     "metadata": {
      "needs_background": "light"
     },
     "output_type": "display_data"
    }
   ],
   "source": [
    "sns.regplot(y='price', x='enginesize', data=df_scale)"
   ]
  },
  {
   "cell_type": "code",
   "execution_count": 130,
   "id": "f419bb65",
   "metadata": {},
   "outputs": [
    {
     "data": {
      "text/html": [
       "<table class=\"simpletable\">\n",
       "<caption>OLS Regression Results</caption>\n",
       "<tr>\n",
       "  <th>Dep. Variable:</th>          <td>price</td>      <th>  R-squared (uncentered):</th>      <td>   0.748</td>\n",
       "</tr>\n",
       "<tr>\n",
       "  <th>Model:</th>                   <td>OLS</td>       <th>  Adj. R-squared (uncentered):</th> <td>   0.747</td>\n",
       "</tr>\n",
       "<tr>\n",
       "  <th>Method:</th>             <td>Least Squares</td>  <th>  F-statistic:       </th>          <td>   606.8</td>\n",
       "</tr>\n",
       "<tr>\n",
       "  <th>Date:</th>             <td>Wed, 22 Sep 2021</td> <th>  Prob (F-statistic):</th>          <td>4.78e-63</td>\n",
       "</tr>\n",
       "<tr>\n",
       "  <th>Time:</th>                 <td>16:59:31</td>     <th>  Log-Likelihood:    </th>          <td> -144.53</td>\n",
       "</tr>\n",
       "<tr>\n",
       "  <th>No. Observations:</th>      <td>   205</td>      <th>  AIC:               </th>          <td>   291.1</td>\n",
       "</tr>\n",
       "<tr>\n",
       "  <th>Df Residuals:</th>          <td>   204</td>      <th>  BIC:               </th>          <td>   294.4</td>\n",
       "</tr>\n",
       "<tr>\n",
       "  <th>Df Model:</th>              <td>     1</td>      <th>                     </th>              <td> </td>   \n",
       "</tr>\n",
       "<tr>\n",
       "  <th>Covariance Type:</th>      <td>nonrobust</td>    <th>                     </th>              <td> </td>   \n",
       "</tr>\n",
       "</table>\n",
       "<table class=\"simpletable\">\n",
       "<tr>\n",
       "       <td></td>         <th>coef</th>     <th>std err</th>      <th>t</th>      <th>P>|t|</th>  <th>[0.025</th>    <th>0.975]</th>  \n",
       "</tr>\n",
       "<tr>\n",
       "  <th>enginesize</th> <td>    0.8825</td> <td>    0.036</td> <td>   24.634</td> <td> 0.000</td> <td>    0.812</td> <td>    0.953</td>\n",
       "</tr>\n",
       "</table>\n",
       "<table class=\"simpletable\">\n",
       "<tr>\n",
       "  <th>Omnibus:</th>       <td>17.998</td> <th>  Durbin-Watson:     </th> <td>   0.663</td>\n",
       "</tr>\n",
       "<tr>\n",
       "  <th>Prob(Omnibus):</th> <td> 0.000</td> <th>  Jarque-Bera (JB):  </th> <td>  25.733</td>\n",
       "</tr>\n",
       "<tr>\n",
       "  <th>Skew:</th>          <td> 0.550</td> <th>  Prob(JB):          </th> <td>2.58e-06</td>\n",
       "</tr>\n",
       "<tr>\n",
       "  <th>Kurtosis:</th>      <td> 4.342</td> <th>  Cond. No.          </th> <td>    1.00</td>\n",
       "</tr>\n",
       "</table><br/><br/>Notes:<br/>[1] R² is computed without centering (uncentered) since the model does not contain a constant.<br/>[2] Standard Errors assume that the covariance matrix of the errors is correctly specified."
      ],
      "text/plain": [
       "<class 'statsmodels.iolib.summary.Summary'>\n",
       "\"\"\"\n",
       "                                 OLS Regression Results                                \n",
       "=======================================================================================\n",
       "Dep. Variable:                  price   R-squared (uncentered):                   0.748\n",
       "Model:                            OLS   Adj. R-squared (uncentered):              0.747\n",
       "Method:                 Least Squares   F-statistic:                              606.8\n",
       "Date:                Wed, 22 Sep 2021   Prob (F-statistic):                    4.78e-63\n",
       "Time:                        16:59:31   Log-Likelihood:                         -144.53\n",
       "No. Observations:                 205   AIC:                                      291.1\n",
       "Df Residuals:                     204   BIC:                                      294.4\n",
       "Df Model:                           1                                                  \n",
       "Covariance Type:            nonrobust                                                  \n",
       "==============================================================================\n",
       "                 coef    std err          t      P>|t|      [0.025      0.975]\n",
       "------------------------------------------------------------------------------\n",
       "enginesize     0.8825      0.036     24.634      0.000       0.812       0.953\n",
       "==============================================================================\n",
       "Omnibus:                       17.998   Durbin-Watson:                   0.663\n",
       "Prob(Omnibus):                  0.000   Jarque-Bera (JB):               25.733\n",
       "Skew:                           0.550   Prob(JB):                     2.58e-06\n",
       "Kurtosis:                       4.342   Cond. No.                         1.00\n",
       "==============================================================================\n",
       "\n",
       "Notes:\n",
       "[1] R² is computed without centering (uncentered) since the model does not contain a constant.\n",
       "[2] Standard Errors assume that the covariance matrix of the errors is correctly specified.\n",
       "\"\"\""
      ]
     },
     "execution_count": 130,
     "metadata": {},
     "output_type": "execute_result"
    }
   ],
   "source": [
    "mod = sm.OLS(df_scale['price'], df_scale['enginesize'])\n",
    "res = mod.fit()\n",
    "res.summary()"
   ]
  },
  {
   "cell_type": "code",
   "execution_count": 129,
   "id": "9251fd1d",
   "metadata": {},
   "outputs": [
    {
     "data": {
      "text/html": [
       "<table class=\"simpletable\">\n",
       "<caption>OLS Regression Results</caption>\n",
       "<tr>\n",
       "  <th>Dep. Variable:</th>          <td>price</td>      <th>  R-squared (uncentered):</th>      <td>   0.792</td>\n",
       "</tr>\n",
       "<tr>\n",
       "  <th>Model:</th>                   <td>OLS</td>       <th>  Adj. R-squared (uncentered):</th> <td>   0.790</td>\n",
       "</tr>\n",
       "<tr>\n",
       "  <th>Method:</th>             <td>Least Squares</td>  <th>  F-statistic:       </th>          <td>   386.9</td>\n",
       "</tr>\n",
       "<tr>\n",
       "  <th>Date:</th>             <td>Wed, 22 Sep 2021</td> <th>  Prob (F-statistic):</th>          <td>5.57e-70</td>\n",
       "</tr>\n",
       "<tr>\n",
       "  <th>Time:</th>                 <td>16:59:26</td>     <th>  Log-Likelihood:    </th>          <td> -124.94</td>\n",
       "</tr>\n",
       "<tr>\n",
       "  <th>No. Observations:</th>      <td>   205</td>      <th>  AIC:               </th>          <td>   253.9</td>\n",
       "</tr>\n",
       "<tr>\n",
       "  <th>Df Residuals:</th>          <td>   203</td>      <th>  BIC:               </th>          <td>   260.5</td>\n",
       "</tr>\n",
       "<tr>\n",
       "  <th>Df Model:</th>              <td>     2</td>      <th>                     </th>              <td> </td>   \n",
       "</tr>\n",
       "<tr>\n",
       "  <th>Covariance Type:</th>      <td>nonrobust</td>    <th>                     </th>              <td> </td>   \n",
       "</tr>\n",
       "</table>\n",
       "<table class=\"simpletable\">\n",
       "<tr>\n",
       "       <td></td>         <th>coef</th>     <th>std err</th>      <th>t</th>      <th>P>|t|</th>  <th>[0.025</th>    <th>0.975]</th>  \n",
       "</tr>\n",
       "<tr>\n",
       "  <th>enginesize</th> <td>    0.5342</td> <td>    0.062</td> <td>    8.550</td> <td> 0.000</td> <td>    0.411</td> <td>    0.657</td>\n",
       "</tr>\n",
       "<tr>\n",
       "  <th>curbweight</th> <td>    0.5737</td> <td>    0.088</td> <td>    6.538</td> <td> 0.000</td> <td>    0.401</td> <td>    0.747</td>\n",
       "</tr>\n",
       "</table>\n",
       "<table class=\"simpletable\">\n",
       "<tr>\n",
       "  <th>Omnibus:</th>       <td>33.110</td> <th>  Durbin-Watson:     </th> <td>   0.607</td>\n",
       "</tr>\n",
       "<tr>\n",
       "  <th>Prob(Omnibus):</th> <td> 0.000</td> <th>  Jarque-Bera (JB):  </th> <td>  76.401</td>\n",
       "</tr>\n",
       "<tr>\n",
       "  <th>Skew:</th>          <td> 0.730</td> <th>  Prob(JB):          </th> <td>2.57e-17</td>\n",
       "</tr>\n",
       "<tr>\n",
       "  <th>Kurtosis:</th>      <td> 5.611</td> <th>  Cond. No.          </th> <td>    3.79</td>\n",
       "</tr>\n",
       "</table><br/><br/>Notes:<br/>[1] R² is computed without centering (uncentered) since the model does not contain a constant.<br/>[2] Standard Errors assume that the covariance matrix of the errors is correctly specified."
      ],
      "text/plain": [
       "<class 'statsmodels.iolib.summary.Summary'>\n",
       "\"\"\"\n",
       "                                 OLS Regression Results                                \n",
       "=======================================================================================\n",
       "Dep. Variable:                  price   R-squared (uncentered):                   0.792\n",
       "Model:                            OLS   Adj. R-squared (uncentered):              0.790\n",
       "Method:                 Least Squares   F-statistic:                              386.9\n",
       "Date:                Wed, 22 Sep 2021   Prob (F-statistic):                    5.57e-70\n",
       "Time:                        16:59:26   Log-Likelihood:                         -124.94\n",
       "No. Observations:                 205   AIC:                                      253.9\n",
       "Df Residuals:                     203   BIC:                                      260.5\n",
       "Df Model:                           2                                                  \n",
       "Covariance Type:            nonrobust                                                  \n",
       "==============================================================================\n",
       "                 coef    std err          t      P>|t|      [0.025      0.975]\n",
       "------------------------------------------------------------------------------\n",
       "enginesize     0.5342      0.062      8.550      0.000       0.411       0.657\n",
       "curbweight     0.5737      0.088      6.538      0.000       0.401       0.747\n",
       "==============================================================================\n",
       "Omnibus:                       33.110   Durbin-Watson:                   0.607\n",
       "Prob(Omnibus):                  0.000   Jarque-Bera (JB):               76.401\n",
       "Skew:                           0.730   Prob(JB):                     2.57e-17\n",
       "Kurtosis:                       5.611   Cond. No.                         3.79\n",
       "==============================================================================\n",
       "\n",
       "Notes:\n",
       "[1] R² is computed without centering (uncentered) since the model does not contain a constant.\n",
       "[2] Standard Errors assume that the covariance matrix of the errors is correctly specified.\n",
       "\"\"\""
      ]
     },
     "execution_count": 129,
     "metadata": {},
     "output_type": "execute_result"
    }
   ],
   "source": [
    "mod = sm.OLS(df_scale['price'], df_scale[['enginesize','curbweight']])\n",
    "res = mod.fit()\n",
    "res.summary()"
   ]
  },
  {
   "cell_type": "markdown",
   "id": "ce9cbbbc",
   "metadata": {},
   "source": [
    "#### X, Y train test split "
   ]
  },
  {
   "cell_type": "code",
   "execution_count": 124,
   "id": "72f8d213",
   "metadata": {},
   "outputs": [],
   "source": [
    "y=target.price\n",
    "x=df_model\n",
    "X_train, X_test, y_train, y_test = train_test_split(x, y , test_size = 0.3, random_state = 0)"
   ]
  },
  {
   "cell_type": "code",
   "execution_count": 125,
   "id": "33c65ec3",
   "metadata": {},
   "outputs": [
    {
     "data": {
      "text/plain": [
       "LinearRegression()"
      ]
     },
     "execution_count": 125,
     "metadata": {},
     "output_type": "execute_result"
    }
   ],
   "source": [
    "regresseur = LinearRegression(fit_intercept=True)\n",
    "regresseur.fit(X_train,y_train)"
   ]
  },
  {
   "cell_type": "code",
   "execution_count": 126,
   "id": "4287a9d8",
   "metadata": {},
   "outputs": [
    {
     "data": {
      "text/plain": [
       "0.8018570477351257"
      ]
     },
     "execution_count": 126,
     "metadata": {},
     "output_type": "execute_result"
    }
   ],
   "source": [
    "y_pred=regresseur.predict(X_test)\n",
    "r2_score(y_test, y_pred)"
   ]
  },
  {
   "cell_type": "code",
   "execution_count": 128,
   "id": "375995e5",
   "metadata": {},
   "outputs": [
    {
     "data": {
      "text/html": [
       "<div>\n",
       "<style scoped>\n",
       "    .dataframe tbody tr th:only-of-type {\n",
       "        vertical-align: middle;\n",
       "    }\n",
       "\n",
       "    .dataframe tbody tr th {\n",
       "        vertical-align: top;\n",
       "    }\n",
       "\n",
       "    .dataframe thead th {\n",
       "        text-align: right;\n",
       "    }\n",
       "</style>\n",
       "<table border=\"1\" class=\"dataframe\">\n",
       "  <thead>\n",
       "    <tr style=\"text-align: right;\">\n",
       "      <th></th>\n",
       "      <th>Actual</th>\n",
       "      <th>Predicted</th>\n",
       "      <th>error</th>\n",
       "      <th>error_abs</th>\n",
       "    </tr>\n",
       "  </thead>\n",
       "  <tbody>\n",
       "    <tr>\n",
       "      <th>134</th>\n",
       "      <td>0.544464</td>\n",
       "      <td>2.183105</td>\n",
       "      <td>-1.638642</td>\n",
       "      <td>1.638642</td>\n",
       "    </tr>\n",
       "    <tr>\n",
       "      <th>18</th>\n",
       "      <td>-0.590247</td>\n",
       "      <td>-2.180664</td>\n",
       "      <td>1.590417</td>\n",
       "      <td>1.590417</td>\n",
       "    </tr>\n",
       "    <tr>\n",
       "      <th>16</th>\n",
       "      <td>3.559380</td>\n",
       "      <td>2.278809</td>\n",
       "      <td>1.280572</td>\n",
       "      <td>1.280572</td>\n",
       "    </tr>\n",
       "    <tr>\n",
       "      <th>74</th>\n",
       "      <td>4.028112</td>\n",
       "      <td>3.329102</td>\n",
       "      <td>0.699011</td>\n",
       "      <td>0.699011</td>\n",
       "    </tr>\n",
       "    <tr>\n",
       "      <th>136</th>\n",
       "      <td>0.901320</td>\n",
       "      <td>0.287598</td>\n",
       "      <td>0.613722</td>\n",
       "      <td>0.613722</td>\n",
       "    </tr>\n",
       "    <tr>\n",
       "      <th>125</th>\n",
       "      <td>1.345152</td>\n",
       "      <td>0.749512</td>\n",
       "      <td>0.595640</td>\n",
       "      <td>0.595640</td>\n",
       "    </tr>\n",
       "    <tr>\n",
       "      <th>111</th>\n",
       "      <td>0.606426</td>\n",
       "      <td>1.168457</td>\n",
       "      <td>-0.562031</td>\n",
       "      <td>0.562031</td>\n",
       "    </tr>\n",
       "    <tr>\n",
       "      <th>66</th>\n",
       "      <td>0.923580</td>\n",
       "      <td>0.380371</td>\n",
       "      <td>0.543209</td>\n",
       "      <td>0.543209</td>\n",
       "    </tr>\n",
       "    <tr>\n",
       "      <th>179</th>\n",
       "      <td>0.654389</td>\n",
       "      <td>1.164551</td>\n",
       "      <td>-0.510162</td>\n",
       "      <td>0.510162</td>\n",
       "    </tr>\n",
       "    <tr>\n",
       "      <th>30</th>\n",
       "      <td>-0.437866</td>\n",
       "      <td>-0.933594</td>\n",
       "      <td>0.495728</td>\n",
       "      <td>0.495728</td>\n",
       "    </tr>\n",
       "  </tbody>\n",
       "</table>\n",
       "</div>"
      ],
      "text/plain": [
       "       Actual  Predicted     error  error_abs\n",
       "134  0.544464   2.183105 -1.638642   1.638642\n",
       "18  -0.590247  -2.180664  1.590417   1.590417\n",
       "16   3.559380   2.278809  1.280572   1.280572\n",
       "74   4.028112   3.329102  0.699011   0.699011\n",
       "136  0.901320   0.287598  0.613722   0.613722\n",
       "125  1.345152   0.749512  0.595640   0.595640\n",
       "111  0.606426   1.168457 -0.562031   0.562031\n",
       "66   0.923580   0.380371  0.543209   0.543209\n",
       "179  0.654389   1.164551 -0.510162   0.510162\n",
       "30  -0.437866  -0.933594  0.495728   0.495728"
      ]
     },
     "execution_count": 128,
     "metadata": {},
     "output_type": "execute_result"
    }
   ],
   "source": [
    "df_results = pd.DataFrame({'Actual': y_test, 'Predicted': y_pred})\n",
    "df_results['error'] = df_results['Actual'] - df_results['Predicted']\n",
    "df_results['error_abs'] = df_results['error'].abs()\n",
    "df_results.sort_values('error_abs', ascending=False).head(10)"
   ]
  },
  {
   "cell_type": "code",
   "execution_count": null,
   "id": "5771d237",
   "metadata": {},
   "outputs": [],
   "source": [
    "file = open('file.pkl','wb')\n",
    "pickle.dump(regressor,file)"
   ]
  },
  {
   "cell_type": "code",
   "execution_count": null,
   "id": "293bcaa4",
   "metadata": {},
   "outputs": [],
   "source": [
    "corr = df_model.corr()\n",
    "plt.figure(figsize=(20,10))\n",
    "sns.set(style=\"whitegrid\")\n",
    "sns.heatmap(abs(corr),annot=False,cmap='BrBG_r')"
   ]
  },
  {
   "cell_type": "code",
   "execution_count": null,
   "id": "e718f611",
   "metadata": {},
   "outputs": [],
   "source": [
    "rfe = RFE(regressor, 6)\n",
    "rfe = rfe.fit(df_model.iloc[:,:-1], df_model['price'])"
   ]
  },
  {
   "cell_type": "code",
   "execution_count": null,
   "id": "39e5e805",
   "metadata": {},
   "outputs": [],
   "source": [
    "liste = list(zip(df_model.iloc[:,:-1].columns, rfe.support_, rfe.ranking_))"
   ]
  },
  {
   "cell_type": "code",
   "execution_count": null,
   "id": "f188e110",
   "metadata": {},
   "outputs": [],
   "source": [
    "def tt(df,n,target) :\n",
    "    rfe = RFE(regressor, n)\n",
    "    rfe = rfe.fit(df.drop(columns=[target]), df[target])\n",
    "    liste = list(zip(df.drop(columns=[target]).columns, rfe.support_, rfe.ranking_))\n",
    "    t=[]\n",
    "    for i in liste:\n",
    "        if i[1]==True:\n",
    "            t.append(i[0])\n",
    "    return t"
   ]
  },
  {
   "cell_type": "code",
   "execution_count": null,
   "id": "4feedf46",
   "metadata": {},
   "outputs": [],
   "source": [
    "R2=[]\n",
    "for i in range(1,10):\n",
    "    x=df_model[tt(df_model,i,'price')].values\n",
    "    y=df_model['price'].values\n",
    "    X_train, X_test, y_train, y_test = train_test_split(x, y , test_size = 0.3, random_state = 0)\n",
    "    regressor.fit(X_train,y_train)\n",
    "    y_pred=regressor.predict(X_test)\n",
    "    R2=r2_score(y_test, y_pred).round(3)\n",
    "    print(R2)\n",
    "    "
   ]
  },
  {
   "cell_type": "code",
   "execution_count": null,
   "id": "480788dc",
   "metadata": {},
   "outputs": [],
   "source": [
    "print('MAE:', mean_absolute_error(y_test, y_pred))\n",
    "print('MSE:', mean_squared_error(y_test, y_pred))\n",
    "print('RMSE:', np.sqrt(mean_squared_error(y_test, y_pred)))"
   ]
  },
  {
   "cell_type": "code",
   "execution_count": null,
   "id": "54d4673f",
   "metadata": {},
   "outputs": [],
   "source": [
    "from statsmodels.stats.outliers_influence import variance_inflation_factor\n",
    "vif = pd.DataFrame()\n",
    "vif[\"VIF\"] = [variance_inflation_factor(variables.values, i) for i in range(variables.shape[1])]\n",
    "# Finally, I like to include names so it is easier to explore the result\n",
    "vif[\"Features\"] = variables.columns\n",
    "vif\n"
   ]
  },
  {
   "cell_type": "code",
   "execution_count": null,
   "id": "dcacb287",
   "metadata": {},
   "outputs": [],
   "source": []
  },
  {
   "cell_type": "code",
   "execution_count": null,
   "id": "a9e05182",
   "metadata": {},
   "outputs": [],
   "source": []
  }
 ],
 "metadata": {
  "kernelspec": {
   "display_name": "Python 3 (ipykernel)",
   "language": "python",
   "name": "python3"
  },
  "language_info": {
   "codemirror_mode": {
    "name": "ipython",
    "version": 3
   },
   "file_extension": ".py",
   "mimetype": "text/x-python",
   "name": "python",
   "nbconvert_exporter": "python",
   "pygments_lexer": "ipython3",
   "version": "3.8.8"
  }
 },
 "nbformat": 4,
 "nbformat_minor": 5
}
